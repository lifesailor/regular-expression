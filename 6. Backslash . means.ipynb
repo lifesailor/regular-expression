{
 "cells": [
  {
   "cell_type": "code",
   "execution_count": 1,
   "metadata": {},
   "outputs": [],
   "source": [
    "import re"
   ]
  },
  {
   "cell_type": "markdown",
   "metadata": {},
   "source": [
    "# Page 6 - \\\\. 실제 .을 의미한다"
   ]
  },
  {
   "cell_type": "markdown",
   "metadata": {},
   "source": [
    "The point must be escaped if literal meaning is required."
   ]
  },
  {
   "cell_type": "code",
   "execution_count": 2,
   "metadata": {},
   "outputs": [
    {
     "name": "stdout",
     "output_type": "stream",
     "text": [
      "<_sre.SRE_Match object; span=(0, 1), match='O'>\n",
      "<_sre.SRE_Match object; span=(0, 1), match='O'>\n",
      "['O', '.', 'K', '.']\n"
     ]
    }
   ],
   "source": [
    "p = re.compile('.')\n",
    "\n",
    "m1 = re.match(p, 'O.K.')\n",
    "s1 = re.search(p, 'O.K.')\n",
    "f1 = re.findall(p, 'O.K.')\n",
    "\n",
    "print(m1)\n",
    "print(s1)\n",
    "print(f1)"
   ]
  },
  {
   "cell_type": "code",
   "execution_count": 3,
   "metadata": {},
   "outputs": [
    {
     "name": "stdout",
     "output_type": "stream",
     "text": [
      "None\n",
      "<_sre.SRE_Match object; span=(1, 2), match='.'>\n",
      "['.', '.']\n"
     ]
    }
   ],
   "source": [
    "p = re.compile('\\.')\n",
    "\n",
    "m1 = re.match(p, 'O.K.')\n",
    "s1 = re.search(p, 'O.K.')\n",
    "f1 = re.findall(p, 'O.K.')\n",
    "\n",
    "print(m1)\n",
    "print(s1)\n",
    "print(f1)"
   ]
  },
  {
   "cell_type": "code",
   "execution_count": 4,
   "metadata": {},
   "outputs": [
    {
     "name": "stdout",
     "output_type": "stream",
     "text": [
      "None\n",
      "<_sre.SRE_Match object; span=(1, 4), match='.K.'>\n",
      "['.K.']\n"
     ]
    }
   ],
   "source": [
    "p = re.compile('\\..\\.')\n",
    "\n",
    "m1 = re.match(p, 'O.K.')\n",
    "s1 = re.search(p, 'O.K.')\n",
    "f1 = re.findall(p, 'O.K.')\n",
    "\n",
    "print(m1)\n",
    "print(s1)\n",
    "print(f1)"
   ]
  }
 ],
 "metadata": {
  "kernelspec": {
   "display_name": "Python 3",
   "language": "python",
   "name": "python3"
  },
  "language_info": {
   "codemirror_mode": {
    "name": "ipython",
    "version": 3
   },
   "file_extension": ".py",
   "mimetype": "text/x-python",
   "name": "python",
   "nbconvert_exporter": "python",
   "pygments_lexer": "ipython3",
   "version": "3.6.7"
  }
 },
 "nbformat": 4,
 "nbformat_minor": 2
}
