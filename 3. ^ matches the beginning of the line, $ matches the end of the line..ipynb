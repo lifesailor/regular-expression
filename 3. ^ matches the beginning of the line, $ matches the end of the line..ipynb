{
 "cells": [
  {
   "cell_type": "code",
   "execution_count": 1,
   "metadata": {},
   "outputs": [],
   "source": [
    "import re"
   ]
  },
  {
   "cell_type": "markdown",
   "metadata": {},
   "source": [
    "# Page 3 - 정규표현식 ^, $"
   ]
  },
  {
   "cell_type": "markdown",
   "metadata": {},
   "source": [
    "Some characters have special meanings. Character ^ matches the beginning of the line (Case 1) while dollar sign $ the end of the line (Case 2)\n"
   ]
  },
  {
   "cell_type": "code",
   "execution_count": 2,
   "metadata": {},
   "outputs": [
    {
     "name": "stdout",
     "output_type": "stream",
     "text": [
      "<_sre.SRE_Match object; span=(0, 3), match='who'>\n",
      "<_sre.SRE_Match object; span=(0, 3), match='who'>\n",
      "['who']\n"
     ]
    }
   ],
   "source": [
    "p = re.compile('^who')\n",
    "\n",
    "m1 = p.match('who is who')\n",
    "s1 = p.search('who is who')\n",
    "f1 = p.findall('who is who')\n",
    "\n",
    "print(m1)\n",
    "print(s1)\n",
    "print(f1)"
   ]
  },
  {
   "cell_type": "code",
   "execution_count": 3,
   "metadata": {},
   "outputs": [
    {
     "name": "stdout",
     "output_type": "stream",
     "text": [
      "None\n",
      "<_sre.SRE_Match object; span=(7, 10), match='who'>\n",
      "['who']\n"
     ]
    }
   ],
   "source": [
    "p = re.compile('who$')\n",
    "\n",
    "m2 = p.match('who is who')\n",
    "s2 = p.search('who is who')\n",
    "f2 = p.findall('who is who')\n",
    "\n",
    "print(m2)\n",
    "print(s2)\n",
    "print(f2)"
   ]
  }
 ],
 "metadata": {
  "kernelspec": {
   "display_name": "Python 3",
   "language": "python",
   "name": "python3"
  },
  "language_info": {
   "codemirror_mode": {
    "name": "ipython",
    "version": 3
   },
   "file_extension": ".py",
   "mimetype": "text/x-python",
   "name": "python",
   "nbconvert_exporter": "python",
   "pygments_lexer": "ipython3",
   "version": "3.6.7"
  }
 },
 "nbformat": 4,
 "nbformat_minor": 2
}
