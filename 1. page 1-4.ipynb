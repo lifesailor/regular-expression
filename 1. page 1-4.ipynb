{
 "cells": [
  {
   "cell_type": "code",
   "execution_count": 3,
   "metadata": {},
   "outputs": [],
   "source": [
    "import re"
   ]
  },
  {
   "cell_type": "markdown",
   "metadata": {},
   "source": [
    "# Page 1 -정규표현식은 대소문자를 구분한다.\n",
    "\n",
    "\n"
   ]
  },
  {
   "cell_type": "markdown",
   "metadata": {},
   "source": [
    "Regular expressions are case sensitive.\n"
   ]
  },
  {
   "cell_type": "code",
   "execution_count": 4,
   "metadata": {},
   "outputs": [
    {
     "name": "stdout",
     "output_type": "stream",
     "text": [
      "<_sre.SRE_Match object; span=(0, 5), match='Hello'>\n",
      "<_sre.SRE_Match object; span=(0, 5), match='Hello'>\n",
      "['Hello', 'Hello']\n",
      "None\n",
      "None\n",
      "[]\n"
     ]
    }
   ],
   "source": [
    "p = re.compile('Hello')\n",
    "\n",
    "m1 = p.match('Hello World\\n Hello World')\n",
    "s1 = p.search('Hello World\\n Hello world')\n",
    "f1 = p.findall('Hello World\\n Hello World')\n",
    "\n",
    "print(m1)\n",
    "print(s1)\n",
    "print(f1)\n",
    "\n",
    "m2 = p.match('hello')\n",
    "s2 = p.search('hello')\n",
    "f2 = p.findall('hello')\n",
    "\n",
    "print(m2)\n",
    "print(s2)\n",
    "print(f2)"
   ]
  },
  {
   "cell_type": "markdown",
   "metadata": {},
   "source": [
    "# Page 2 - 정규표현식은 공백, 개행문자, TAB을 포함한다."
   ]
  },
  {
   "cell_type": "markdown",
   "metadata": {},
   "source": [
    "Each character inside the search pattern is significant including whitespace characters (space, tab, new line).\n"
   ]
  },
  {
   "cell_type": "code",
   "execution_count": 6,
   "metadata": {},
   "outputs": [
    {
     "name": "stdout",
     "output_type": "stream",
     "text": [
      "<_sre.SRE_Match object; span=(0, 11), match='Hello World'>\n",
      "<_sre.SRE_Match object; span=(0, 11), match='Hello World'>\n",
      "['Hello World', 'Hello World']\n",
      "None\n",
      "None\n",
      "[]\n"
     ]
    }
   ],
   "source": [
    "p = re.compile('Hello World')\n",
    "\n",
    "m1 = p.match('Hello World\\n Hello World')\n",
    "s1 = p.search('Hello World\\n Hello world')\n",
    "f1 = p.findall('Hello World\\n Hello World')\n",
    "\n",
    "print(m1)\n",
    "print(s1)\n",
    "print(f1)\n",
    "\n",
    "m2 = p.match('Hello  World\\n Hello  World')\n",
    "s2 = p.search('Hello  World\\n Hello  world')\n",
    "f2 = p.findall('Hello  World\\n Hello  World')\n",
    "\n",
    "print(m2)\n",
    "print(s2)\n",
    "print(f2)"
   ]
  },
  {
   "cell_type": "markdown",
   "metadata": {},
   "source": [
    "# Page 3 - 정규표현식 ^, $"
   ]
  },
  {
   "cell_type": "markdown",
   "metadata": {},
   "source": [
    "Some characters have special meanings. Character ^ matches the beginning of the line (Case 1) while dollar sign $ the end of the line (Case 2)\n"
   ]
  },
  {
   "cell_type": "code",
   "execution_count": 12,
   "metadata": {},
   "outputs": [
    {
     "name": "stdout",
     "output_type": "stream",
     "text": [
      "<_sre.SRE_Match object; span=(0, 3), match='who'>\n",
      "<_sre.SRE_Match object; span=(0, 3), match='who'>\n",
      "['who']\n"
     ]
    }
   ],
   "source": [
    "p = re.compile('^who')\n",
    "\n",
    "m1 = p.match('who is who')\n",
    "s1 = p.search('who is who')\n",
    "f1 = p.findall('who is who')\n",
    "\n",
    "print(m1)\n",
    "print(s1)\n",
    "print(f1)"
   ]
  },
  {
   "cell_type": "code",
   "execution_count": 15,
   "metadata": {},
   "outputs": [
    {
     "name": "stdout",
     "output_type": "stream",
     "text": [
      "None\n",
      "<_sre.SRE_Match object; span=(7, 10), match='who'>\n",
      "['who']\n"
     ]
    }
   ],
   "source": [
    "p = re.compile('who$')\n",
    "\n",
    "m2 = p.match('who is who')\n",
    "s2 = p.search('who is who')\n",
    "f2 = p.findall('who is who')\n",
    "\n",
    "print(m2)\n",
    "print(s2)\n",
    "print(f2)"
   ]
  },
  {
   "cell_type": "markdown",
   "metadata": {},
   "source": [
    "# Page 4 - 정규표현식 \\"
   ]
  },
  {
   "cell_type": "markdown",
   "metadata": {},
   "source": [
    "If literal value of a special character is required, it must be escaped with a backslash \\. Case 1 does not match anything as both characters a special, Case 2 matches all $, Case 3 matches $ only if it is the first and Case 4 the last character. Backslash has special meaning and must be also escaped for literal use (Case 5)."
   ]
  },
  {
   "cell_type": "code",
   "execution_count": 20,
   "metadata": {},
   "outputs": [
    {
     "name": "stdout",
     "output_type": "stream",
     "text": [
      "None\n",
      "None\n",
      "[]\n"
     ]
    }
   ],
   "source": [
    "# $을 문자로 인식하지 않음\n",
    "p = re.compile('^$')\n",
    "\n",
    "m1 = p.match('$12$\\-\\$25$')\n",
    "s1 = p.search('$12$\\-\\$25$')\n",
    "f1 = p.findall('$12$\\-\\$25$')\n",
    "\n",
    "print(m1)\n",
    "print(s1)\n",
    "print(f1)"
   ]
  },
  {
   "cell_type": "code",
   "execution_count": 21,
   "metadata": {},
   "outputs": [
    {
     "name": "stdout",
     "output_type": "stream",
     "text": [
      "<_sre.SRE_Match object; span=(0, 1), match='$'>\n",
      "<_sre.SRE_Match object; span=(0, 1), match='$'>\n",
      "['$', '$', '$', '$']\n"
     ]
    }
   ],
   "source": [
    "#$을 포함\n",
    "p = re.compile('\\$')\n",
    "\n",
    "m1 = p.match('$12$\\-\\$25$')\n",
    "s1 = p.search('$12$\\-\\$25$')\n",
    "f1 = p.findall('$12$\\-\\$25$')\n",
    "\n",
    "print(m1)\n",
    "print(s1)\n",
    "print(f1)"
   ]
  },
  {
   "cell_type": "code",
   "execution_count": 32,
   "metadata": {},
   "outputs": [
    {
     "name": "stdout",
     "output_type": "stream",
     "text": [
      "<_sre.SRE_Match object; span=(0, 1), match='$'>\n",
      "<_sre.SRE_Match object; span=(0, 1), match='$'>\n",
      "['$']\n"
     ]
    }
   ],
   "source": [
    "#$으로 시작\n",
    "p = re.compile('^\\$')\n",
    "\n",
    "m1 = p.match('$12$\\-\\$25$')\n",
    "s1 = p.search('$12$\\-\\$25$')\n",
    "f1 = p.findall('$12$\\-\\$25$')\n",
    "\n",
    "print(m1)\n",
    "print(s1)\n",
    "print(f1)"
   ]
  },
  {
   "cell_type": "code",
   "execution_count": 34,
   "metadata": {},
   "outputs": [
    {
     "name": "stdout",
     "output_type": "stream",
     "text": [
      "None\n",
      "<_sre.SRE_Match object; span=(10, 11), match='$'>\n",
      "['$']\n"
     ]
    }
   ],
   "source": [
    "#$으로 끝\n",
    "p = re.compile('\\$$')\n",
    "\n",
    "m1 = p.match('$12$\\-\\$25$')\n",
    "s1 = p.search('$12$\\-\\$25$')\n",
    "f1 = p.findall('$12$\\-\\$25$')\n",
    "\n",
    "print(m1)\n",
    "print(s1)\n",
    "print(f1)"
   ]
  }
 ],
 "metadata": {
  "kernelspec": {
   "display_name": "Python 3",
   "language": "python",
   "name": "python3"
  },
  "language_info": {
   "codemirror_mode": {
    "name": "ipython",
    "version": 3
   },
   "file_extension": ".py",
   "mimetype": "text/x-python",
   "name": "python",
   "nbconvert_exporter": "python",
   "pygments_lexer": "ipython3",
   "version": "3.6.4"
  }
 },
 "nbformat": 4,
 "nbformat_minor": 2
}
