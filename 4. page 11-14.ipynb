{
 "cells": [
  {
   "cell_type": "code",
   "execution_count": 1,
   "metadata": {},
   "outputs": [],
   "source": [
    "import re"
   ]
  },
  {
   "cell_type": "markdown",
   "metadata": {},
   "source": [
    "# Qunatifier"
   ]
  },
  {
   "cell_type": "markdown",
   "metadata": {},
   "source": [
    "# Page 11 - *, +, ?는 앞 문자를 기준으로 한다.\n",
    "\n",
    "## 1) * - 없거나 1번 이상 있는 것\n",
    "## 2) + - 1번 이상 있는 것\n",
    "## 3) ? - 0 또는 1"
   ]
  },
  {
   "cell_type": "code",
   "execution_count": 2,
   "metadata": {},
   "outputs": [
    {
     "name": "stdout",
     "output_type": "stream",
     "text": [
      "<_sre.SRE_Match object; span=(0, 4), match='aaab'>\n",
      "<_sre.SRE_Match object; span=(0, 4), match='aaab'>\n",
      "['aaab', 'ab', 'b']\n"
     ]
    }
   ],
   "source": [
    "p = re.compile('a*b')\n",
    "\n",
    "m1 = p.match('aaabc abc bc')\n",
    "s1 = p.search('aaabc abc bc')\n",
    "f1 = p.findall('aaabc abc bc')\n",
    "\n",
    "print(m1)\n",
    "print(s1)\n",
    "print(f1)"
   ]
  },
  {
   "cell_type": "code",
   "execution_count": 3,
   "metadata": {},
   "outputs": [
    {
     "name": "stdout",
     "output_type": "stream",
     "text": [
      "<_sre.SRE_Match object; span=(0, 4), match='aaab'>\n",
      "<_sre.SRE_Match object; span=(0, 4), match='aaab'>\n",
      "['aaab', 'ab']\n"
     ]
    }
   ],
   "source": [
    "p = re.compile('a+b')\n",
    "\n",
    "m1 = p.match('aaabc abc bc')\n",
    "s1 = p.search('aaabc abc bc')\n",
    "f1 = p.findall('aaabc abc bc')\n",
    "\n",
    "print(m1)\n",
    "print(s1)\n",
    "print(f1)"
   ]
  },
  {
   "cell_type": "code",
   "execution_count": 4,
   "metadata": {},
   "outputs": [
    {
     "name": "stdout",
     "output_type": "stream",
     "text": [
      "None\n",
      "<_sre.SRE_Match object; span=(2, 4), match='ab'>\n",
      "['ab', 'ab', 'b']\n"
     ]
    }
   ],
   "source": [
    "p = re.compile('a?b')\n",
    "\n",
    "m1 = p.match('aaabc abc bc')\n",
    "s1 = p.search('aaabc abc bc')\n",
    "f1 = p.findall('aaabc abc bc')\n",
    "\n",
    "print(m1)\n",
    "print(s1)\n",
    "print(f1)"
   ]
  },
  {
   "cell_type": "markdown",
   "metadata": {},
   "source": [
    "# Page 12 - 몇 가지 * 수량자 예시"
   ]
  },
  {
   "cell_type": "code",
   "execution_count": 14,
   "metadata": {},
   "outputs": [
    {
     "name": "stdout",
     "output_type": "stream",
     "text": [
      "<_sre.SRE_Match object; span=(0, 25), match='-@- *** -- \"*\" -- *** -@-'>\n",
      "<_sre.SRE_Match object; span=(0, 25), match='-@- *** -- \"*\" -- *** -@-'>\n",
      "['-@- *** -- \"*\" -- *** -@-', '']\n"
     ]
    }
   ],
   "source": [
    "p = re.compile('.*')\n",
    "\n",
    "m1 = p.match('-@- *** -- \"*\" -- *** -@-')\n",
    "s1 = p.search('-@- *** -- \"*\" -- *** -@-')\n",
    "f1 = p.findall('-@- *** -- \"*\" -- *** -@-')\n",
    "\n",
    "print(m1)\n",
    "print(s1)\n",
    "print(f1)"
   ]
  },
  {
   "cell_type": "code",
   "execution_count": 15,
   "metadata": {},
   "outputs": [
    {
     "name": "stdout",
     "output_type": "stream",
     "text": [
      "None\n",
      "<_sre.SRE_Match object; span=(8, 10), match='--'>\n",
      "['--', '--']\n"
     ]
    }
   ],
   "source": [
    "p = re.compile('-A*-')\n",
    "\n",
    "m1 = p.match('-@- *** -- \"*\" -- *** -@-')\n",
    "s1 = p.search('-@- *** -- \"*\" -- *** -@-')\n",
    "f1 = p.findall('-@- *** -- \"*\" -- *** -@-')\n",
    "\n",
    "print(m1)\n",
    "print(s1)\n",
    "print(f1)"
   ]
  },
  {
   "cell_type": "code",
   "execution_count": 16,
   "metadata": {},
   "outputs": [
    {
     "name": "stdout",
     "output_type": "stream",
     "text": [
      "<_sre.SRE_Match object; span=(0, 3), match='-@-'>\n",
      "<_sre.SRE_Match object; span=(0, 3), match='-@-'>\n",
      "['-@-', '', '', '', '', '', '--', '', '', '', '', '', '--', '', '', '', '', '', '-@-', '']\n"
     ]
    }
   ],
   "source": [
    "p = re.compile('[-@]*')\n",
    "\n",
    "m1 = p.match('-@-*** -- \"*\" -- *** -@-')\n",
    "s1 = p.search('-@- *** -- \"*\" -- *** -@-')\n",
    "f1 = p.findall('-@- *** -- \"*\" -- *** -@-')\n",
    "\n",
    "print(m1)\n",
    "print(s1)\n",
    "print(f1)"
   ]
  },
  {
   "cell_type": "markdown",
   "metadata": {},
   "source": [
    "# Page 13 - 몇 가지 + 수량자 예시"
   ]
  },
  {
   "cell_type": "code",
   "execution_count": 17,
   "metadata": {},
   "outputs": [
    {
     "name": "stdout",
     "output_type": "stream",
     "text": [
      "None\n",
      "<_sre.SRE_Match object; span=(6, 7), match='*'>\n",
      "['*', '**', '*', '*', '**']\n"
     ]
    }
   ],
   "source": [
    "p = re.compile('\\*+')\n",
    "\n",
    "m1 = p.match('-@@@- * ** - - \"*\" -- * ** -@@@-')\n",
    "s1 = p.search('-@@@- * ** - - \"*\" -- * ** -@@@-')\n",
    "f1 = p.findall('-@@@- * ** - - \"*\" -- * ** -@@@-')\n",
    "\n",
    "print(m1)\n",
    "print(s1)\n",
    "print(f1)"
   ]
  },
  {
   "cell_type": "code",
   "execution_count": 18,
   "metadata": {},
   "outputs": [
    {
     "name": "stdout",
     "output_type": "stream",
     "text": [
      "<_sre.SRE_Match object; span=(0, 5), match='-@@@-'>\n",
      "<_sre.SRE_Match object; span=(0, 5), match='-@@@-'>\n",
      "['-@@@-', '-@@@-']\n"
     ]
    }
   ],
   "source": [
    "p = re.compile('-@+-')\n",
    "\n",
    "m1 = p.match('-@@@- * ** - - \"*\" -- * ** -@@@-')\n",
    "s1 = p.search('-@@@- * ** - - \"*\" -- * ** -@@@-')\n",
    "f1 = p.findall('-@@@- * ** - - \"*\" -- * ** -@@@-')\n",
    "\n",
    "print(m1)\n",
    "print(s1)\n",
    "print(f1)"
   ]
  },
  {
   "cell_type": "code",
   "execution_count": 19,
   "metadata": {},
   "outputs": [
    {
     "name": "stdout",
     "output_type": "stream",
     "text": [
      "<_sre.SRE_Match object; span=(0, 5), match='-@@@-'>\n",
      "<_sre.SRE_Match object; span=(0, 5), match='-@@@-'>\n",
      "['-@@@-', '*', '**', '-', '-', '\"*\"', '--', '*', '**', '-@@@-']\n"
     ]
    }
   ],
   "source": [
    "p = re.compile('[^ ]+')\n",
    "\n",
    "m1 = p.match('-@@@- * ** - - \"*\" -- * ** -@@@-')\n",
    "s1 = p.search('-@@@- * ** - - \"*\" -- * ** -@@@-')\n",
    "f1 = p.findall('-@@@- * ** - - \"*\" -- * ** -@@@-')\n",
    "\n",
    "print(m1)\n",
    "print(s1)\n",
    "print(f1)"
   ]
  },
  {
   "cell_type": "markdown",
   "metadata": {},
   "source": [
    "# Page 14 - 몇 가지 ? 수량자 예시"
   ]
  },
  {
   "cell_type": "code",
   "execution_count": 21,
   "metadata": {},
   "outputs": [
    {
     "name": "stdout",
     "output_type": "stream",
     "text": [
      "None\n",
      "<_sre.SRE_Match object; span=(1, 4), match='-XX'>\n",
      "['-XX', '-XX', '-XX', '-XX', '-XX']\n"
     ]
    }
   ],
   "source": [
    "p = re.compile('-X?XX?X')\n",
    "\n",
    "m1 = p.match('--XX-@-XX-@@-XX-@@@-XX-@@@@-XX-@@-@@-')\n",
    "s1 = p.search('--XX-@-XX-@@-XX-@@@-XX-@@@@-XX-@@-@@-')\n",
    "f1 = p.findall('--XX-@-XX-@@-XX-@@@-XX-@@@@-XX-@@-@@-')\n",
    "\n",
    "print(m1)\n",
    "print(s1)\n",
    "print(f1)"
   ]
  },
  {
   "cell_type": "code",
   "execution_count": 22,
   "metadata": {},
   "outputs": [
    {
     "name": "stdout",
     "output_type": "stream",
     "text": [
      "<_sre.SRE_Match object; span=(0, 2), match='--'>\n",
      "<_sre.SRE_Match object; span=(0, 2), match='--'>\n",
      "['--', '-@-', '-@@-', '-@@@-', '-@@-']\n"
     ]
    }
   ],
   "source": [
    "p = re.compile('-@?@?@?-')\n",
    "\n",
    "m1 = p.match('--XX-@-XX-@@-XX-@@@-XX-@@@@-XX-@@-@@-')\n",
    "s1 = p.search('--XX-@-XX-@@-XX-@@@-XX-@@@@-XX-@@-@@-')\n",
    "f1 = p.findall('--XX-@-XX-@@-XX-@@@-XX-@@@@-XX-@@-@@-')\n",
    "\n",
    "print(m1)\n",
    "print(s1)\n",
    "print(f1)"
   ]
  },
  {
   "cell_type": "code",
   "execution_count": 23,
   "metadata": {},
   "outputs": [
    {
     "name": "stdout",
     "output_type": "stream",
     "text": [
      "None\n",
      "<_sre.SRE_Match object; span=(4, 6), match='-@'>\n",
      "['-@', '-@@', '-@@', '-@@', '-@@', '-@@']\n"
     ]
    }
   ],
   "source": [
    "p = re.compile('[^@]@?@')\n",
    "\n",
    "m1 = p.match('--XX-@-XX-@@-XX-@@@-XX-@@@@-XX-@@-@@-')\n",
    "s1 = p.search('--XX-@-XX-@@-XX-@@@-XX-@@@@-XX-@@-@@-')\n",
    "f1 = p.findall('--XX-@-XX-@@-XX-@@@-XX-@@@@-XX-@@-@@-')\n",
    "\n",
    "print(m1)\n",
    "print(s1)\n",
    "print(f1)"
   ]
  }
 ],
 "metadata": {
  "kernelspec": {
   "display_name": "Python 3",
   "language": "python",
   "name": "python3"
  },
  "language_info": {
   "codemirror_mode": {
    "name": "ipython",
    "version": 3
   },
   "file_extension": ".py",
   "mimetype": "text/x-python",
   "name": "python",
   "nbconvert_exporter": "python",
   "pygments_lexer": "ipython3",
   "version": "3.6.4"
  }
 },
 "nbformat": 4,
 "nbformat_minor": 2
}
