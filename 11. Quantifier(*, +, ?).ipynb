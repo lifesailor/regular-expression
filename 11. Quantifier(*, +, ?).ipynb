{
 "cells": [
  {
   "cell_type": "code",
   "execution_count": 2,
   "metadata": {},
   "outputs": [],
   "source": [
    "import re"
   ]
  },
  {
   "cell_type": "markdown",
   "metadata": {},
   "source": [
    "# Page 11 - *, +, ?는 앞 문자를 기준으로 한다.\n",
    "\n",
    "## 1) * - 없거나 1번 이상 있는 것\n",
    "## 2) + - 1번 이상 있는 것\n",
    "## 3) ? - 0 또는 1"
   ]
  },
  {
   "cell_type": "code",
   "execution_count": 3,
   "metadata": {},
   "outputs": [
    {
     "name": "stdout",
     "output_type": "stream",
     "text": [
      "<_sre.SRE_Match object; span=(0, 4), match='aaab'>\n",
      "<_sre.SRE_Match object; span=(0, 4), match='aaab'>\n",
      "['aaab', 'ab', 'b']\n"
     ]
    }
   ],
   "source": [
    "p = re.compile('a*b')\n",
    "\n",
    "m1 = p.match('aaabc abc bc')\n",
    "s1 = p.search('aaabc abc bc')\n",
    "f1 = p.findall('aaabc abc bc')\n",
    "\n",
    "print(m1)\n",
    "print(s1)\n",
    "print(f1)"
   ]
  },
  {
   "cell_type": "code",
   "execution_count": 4,
   "metadata": {},
   "outputs": [
    {
     "name": "stdout",
     "output_type": "stream",
     "text": [
      "<_sre.SRE_Match object; span=(0, 4), match='aaab'>\n",
      "<_sre.SRE_Match object; span=(0, 4), match='aaab'>\n",
      "['aaab', 'ab']\n"
     ]
    }
   ],
   "source": [
    "p = re.compile('a+b')\n",
    "\n",
    "m1 = p.match('aaabc abc bc')\n",
    "s1 = p.search('aaabc abc bc')\n",
    "f1 = p.findall('aaabc abc bc')\n",
    "\n",
    "print(m1)\n",
    "print(s1)\n",
    "print(f1)"
   ]
  },
  {
   "cell_type": "code",
   "execution_count": 5,
   "metadata": {},
   "outputs": [
    {
     "name": "stdout",
     "output_type": "stream",
     "text": [
      "None\n",
      "<_sre.SRE_Match object; span=(2, 4), match='ab'>\n",
      "['ab', 'ab', 'b']\n"
     ]
    }
   ],
   "source": [
    "p = re.compile('a?b')\n",
    "\n",
    "m1 = p.match('aaabc abc bc')\n",
    "s1 = p.search('aaabc abc bc')\n",
    "f1 = p.findall('aaabc abc bc')\n",
    "\n",
    "print(m1)\n",
    "print(s1)\n",
    "print(f1)"
   ]
  }
 ],
 "metadata": {
  "kernelspec": {
   "display_name": "Python 3",
   "language": "python",
   "name": "python3"
  },
  "language_info": {
   "codemirror_mode": {
    "name": "ipython",
    "version": 3
   },
   "file_extension": ".py",
   "mimetype": "text/x-python",
   "name": "python",
   "nbconvert_exporter": "python",
   "pygments_lexer": "ipython3",
   "version": "3.6.7"
  }
 },
 "nbformat": 4,
 "nbformat_minor": 2
}
