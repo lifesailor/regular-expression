{
 "cells": [
  {
   "cell_type": "markdown",
   "metadata": {},
   "source": [
    "# Page 4 - 정규표현식 \\"
   ]
  },
  {
   "cell_type": "markdown",
   "metadata": {},
   "source": [
    "If literal value of a special character is required, it must be escaped with a backslash \\. Case 1 does not match anything as both characters a special, Case 2 matches all $, Case 3 matches $ only if it is the first and Case 4 the last character. Backslash has special meaning and must be also escaped for literal use (Case 5)."
   ]
  },
  {
   "cell_type": "code",
   "execution_count": 20,
   "metadata": {},
   "outputs": [
    {
     "name": "stdout",
     "output_type": "stream",
     "text": [
      "None\n",
      "None\n",
      "[]\n"
     ]
    }
   ],
   "source": [
    "# $을 문자로 인식하지 않음\n",
    "p = re.compile('^$')\n",
    "\n",
    "m1 = p.match('$12$\\-\\$25$')\n",
    "s1 = p.search('$12$\\-\\$25$')\n",
    "f1 = p.findall('$12$\\-\\$25$')\n",
    "\n",
    "print(m1)\n",
    "print(s1)\n",
    "print(f1)"
   ]
  },
  {
   "cell_type": "code",
   "execution_count": 21,
   "metadata": {},
   "outputs": [
    {
     "name": "stdout",
     "output_type": "stream",
     "text": [
      "<_sre.SRE_Match object; span=(0, 1), match='$'>\n",
      "<_sre.SRE_Match object; span=(0, 1), match='$'>\n",
      "['$', '$', '$', '$']\n"
     ]
    }
   ],
   "source": [
    "#$을 포함\n",
    "p = re.compile('\\$')\n",
    "\n",
    "m1 = p.match('$12$\\-\\$25$')\n",
    "s1 = p.search('$12$\\-\\$25$')\n",
    "f1 = p.findall('$12$\\-\\$25$')\n",
    "\n",
    "print(m1)\n",
    "print(s1)\n",
    "print(f1)"
   ]
  },
  {
   "cell_type": "code",
   "execution_count": 32,
   "metadata": {},
   "outputs": [
    {
     "name": "stdout",
     "output_type": "stream",
     "text": [
      "<_sre.SRE_Match object; span=(0, 1), match='$'>\n",
      "<_sre.SRE_Match object; span=(0, 1), match='$'>\n",
      "['$']\n"
     ]
    }
   ],
   "source": [
    "#$으로 시작\n",
    "p = re.compile('^\\$')\n",
    "\n",
    "m1 = p.match('$12$\\-\\$25$')\n",
    "s1 = p.search('$12$\\-\\$25$')\n",
    "f1 = p.findall('$12$\\-\\$25$')\n",
    "\n",
    "print(m1)\n",
    "print(s1)\n",
    "print(f1)"
   ]
  },
  {
   "cell_type": "code",
   "execution_count": 34,
   "metadata": {},
   "outputs": [
    {
     "name": "stdout",
     "output_type": "stream",
     "text": [
      "None\n",
      "<_sre.SRE_Match object; span=(10, 11), match='$'>\n",
      "['$']\n"
     ]
    }
   ],
   "source": [
    "#$으로 끝\n",
    "p = re.compile('\\$$')\n",
    "\n",
    "m1 = p.match('$12$\\-\\$25$')\n",
    "s1 = p.search('$12$\\-\\$25$')\n",
    "f1 = p.findall('$12$\\-\\$25$')\n",
    "\n",
    "print(m1)\n",
    "print(s1)\n",
    "print(f1)"
   ]
  },
  {
   "cell_type": "code",
   "execution_count": null,
   "metadata": {},
   "outputs": [],
   "source": []
  }
 ],
 "metadata": {
  "kernelspec": {
   "display_name": "Python 3",
   "language": "python",
   "name": "python3"
  },
  "language_info": {
   "codemirror_mode": {
    "name": "ipython",
    "version": 3
   },
   "file_extension": ".py",
   "mimetype": "text/x-python",
   "name": "python",
   "nbconvert_exporter": "python",
   "pygments_lexer": "ipython3",
   "version": "3.6.7"
  }
 },
 "nbformat": 4,
 "nbformat_minor": 2
}
