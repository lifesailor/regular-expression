{
 "cells": [
  {
   "cell_type": "code",
   "execution_count": 1,
   "metadata": {},
   "outputs": [],
   "source": [
    "import re"
   ]
  },
  {
   "cell_type": "markdown",
   "metadata": {},
   "source": [
    "# Page 1 -정규표현식은 대소문자를 구분한다.\n",
    "\n",
    "\n"
   ]
  },
  {
   "cell_type": "markdown",
   "metadata": {},
   "source": [
    "Regular expressions are case sensitive.\n"
   ]
  },
  {
   "cell_type": "code",
   "execution_count": 2,
   "metadata": {
    "scrolled": true
   },
   "outputs": [
    {
     "name": "stdout",
     "output_type": "stream",
     "text": [
      "<_sre.SRE_Match object; span=(0, 5), match='Hello'>\n",
      "<_sre.SRE_Match object; span=(0, 5), match='Hello'>\n",
      "['Hello', 'Hello']\n",
      "None\n",
      "None\n",
      "[]\n"
     ]
    }
   ],
   "source": [
    "p = re.compile('Hello')\n",
    "\n",
    "m1 = p.match('Hello World\\n Hello World')\n",
    "s1 = p.search('Hello World\\n Hello world')\n",
    "f1 = p.findall('Hello World\\n Hello World')\n",
    "\n",
    "print(m1)\n",
    "print(s1)\n",
    "print(f1)\n",
    "\n",
    "m2 = p.match('hello')\n",
    "s2 = p.search('hello')\n",
    "f2 = p.findall('hello')\n",
    "\n",
    "print(m2)\n",
    "print(s2)\n",
    "print(f2)"
   ]
  }
 ],
 "metadata": {
  "kernelspec": {
   "display_name": "Python 3",
   "language": "python",
   "name": "python3"
  },
  "language_info": {
   "codemirror_mode": {
    "name": "ipython",
    "version": 3
   },
   "file_extension": ".py",
   "mimetype": "text/x-python",
   "name": "python",
   "nbconvert_exporter": "python",
   "pygments_lexer": "ipython3",
   "version": "3.6.7"
  }
 },
 "nbformat": 4,
 "nbformat_minor": 2
}
