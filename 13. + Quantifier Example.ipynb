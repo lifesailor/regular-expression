{
 "cells": [
  {
   "cell_type": "code",
   "execution_count": 1,
   "metadata": {},
   "outputs": [],
   "source": [
    "import re"
   ]
  },
  {
   "cell_type": "markdown",
   "metadata": {},
   "source": [
    "# Page 13 - 몇 가지 + 수량자 예시"
   ]
  },
  {
   "cell_type": "code",
   "execution_count": 2,
   "metadata": {},
   "outputs": [
    {
     "name": "stdout",
     "output_type": "stream",
     "text": [
      "None\n",
      "<_sre.SRE_Match object; span=(6, 7), match='*'>\n",
      "['*', '**', '*', '*', '**']\n"
     ]
    }
   ],
   "source": [
    "p = re.compile('\\*+')\n",
    "\n",
    "m1 = p.match('-@@@- * ** - - \"*\" -- * ** -@@@-')\n",
    "s1 = p.search('-@@@- * ** - - \"*\" -- * ** -@@@-')\n",
    "f1 = p.findall('-@@@- * ** - - \"*\" -- * ** -@@@-')\n",
    "\n",
    "print(m1)\n",
    "print(s1)\n",
    "print(f1)"
   ]
  },
  {
   "cell_type": "code",
   "execution_count": 3,
   "metadata": {},
   "outputs": [
    {
     "name": "stdout",
     "output_type": "stream",
     "text": [
      "<_sre.SRE_Match object; span=(0, 5), match='-@@@-'>\n",
      "<_sre.SRE_Match object; span=(0, 5), match='-@@@-'>\n",
      "['-@@@-', '-@@@-']\n"
     ]
    }
   ],
   "source": [
    "p = re.compile('-@+-')\n",
    "\n",
    "m1 = p.match('-@@@- * ** - - \"*\" -- * ** -@@@-')\n",
    "s1 = p.search('-@@@- * ** - - \"*\" -- * ** -@@@-')\n",
    "f1 = p.findall('-@@@- * ** - - \"*\" -- * ** -@@@-')\n",
    "\n",
    "print(m1)\n",
    "print(s1)\n",
    "print(f1)"
   ]
  },
  {
   "cell_type": "code",
   "execution_count": 5,
   "metadata": {
    "scrolled": true
   },
   "outputs": [
    {
     "name": "stdout",
     "output_type": "stream",
     "text": [
      "<_sre.SRE_Match object; span=(0, 5), match='-@@@-'>\n",
      "<_sre.SRE_Match object; span=(0, 5), match='-@@@-'>\n",
      "['-@@@-', '*', '**', '-', '-', '\"*\"', '--', '*', '**', '-@@@-']\n"
     ]
    }
   ],
   "source": [
    "p = re.compile('[^ ]+')\n",
    "\n",
    "m1 = p.match('-@@@- * ** - - \"*\" -- * ** -@@@-')\n",
    "s1 = p.search('-@@@- * ** - - \"*\" -- * ** -@@@-')\n",
    "f1 = p.findall('-@@@- * ** - - \"*\" -- * ** -@@@-')\n",
    "\n",
    "print(m1)\n",
    "print(s1)\n",
    "print(f1)"
   ]
  },
  {
   "cell_type": "code",
   "execution_count": null,
   "metadata": {},
   "outputs": [],
   "source": []
  }
 ],
 "metadata": {
  "kernelspec": {
   "display_name": "Python 3",
   "language": "python",
   "name": "python3"
  },
  "language_info": {
   "codemirror_mode": {
    "name": "ipython",
    "version": 3
   },
   "file_extension": ".py",
   "mimetype": "text/x-python",
   "name": "python",
   "nbconvert_exporter": "python",
   "pygments_lexer": "ipython3",
   "version": "3.6.7"
  }
 },
 "nbformat": 4,
 "nbformat_minor": 2
}
