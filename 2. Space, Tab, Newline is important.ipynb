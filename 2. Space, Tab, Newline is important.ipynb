{
 "cells": [
  {
   "cell_type": "code",
   "execution_count": 2,
   "metadata": {},
   "outputs": [],
   "source": [
    "import re"
   ]
  },
  {
   "cell_type": "markdown",
   "metadata": {},
   "source": [
    "# Page 2 - 정규표현식은 공백, 개행문자, TAB을 포함한다."
   ]
  },
  {
   "cell_type": "markdown",
   "metadata": {},
   "source": [
    "Each character inside the search pattern is significant including whitespace characters (space, tab, new line).\n"
   ]
  },
  {
   "cell_type": "code",
   "execution_count": 3,
   "metadata": {
    "scrolled": false
   },
   "outputs": [
    {
     "name": "stdout",
     "output_type": "stream",
     "text": [
      "<_sre.SRE_Match object; span=(0, 11), match='Hello World'>\n",
      "<_sre.SRE_Match object; span=(0, 11), match='Hello World'>\n",
      "['Hello World', 'Hello World']\n",
      "None\n",
      "None\n",
      "[]\n"
     ]
    }
   ],
   "source": [
    "p = re.compile('Hello World')\n",
    "\n",
    "m1 = p.match('Hello World\\n Hello World')\n",
    "s1 = p.search('Hello World\\n Hello world')\n",
    "f1 = p.findall('Hello World\\n Hello World')\n",
    "\n",
    "print(m1)\n",
    "print(s1)\n",
    "print(f1)\n",
    "\n",
    "m2 = p.match('Hello  World\\n Hello  World')\n",
    "s2 = p.search('Hello  World\\n Hello  world')\n",
    "f2 = p.findall('Hello  World\\n Hello  World')\n",
    "\n",
    "print(m2)\n",
    "print(s2)\n",
    "print(f2)"
   ]
  }
 ],
 "metadata": {
  "kernelspec": {
   "display_name": "Python 3",
   "language": "python",
   "name": "python3"
  },
  "language_info": {
   "codemirror_mode": {
    "name": "ipython",
    "version": 3
   },
   "file_extension": ".py",
   "mimetype": "text/x-python",
   "name": "python",
   "nbconvert_exporter": "python",
   "pygments_lexer": "ipython3",
   "version": "3.6.7"
  }
 },
 "nbformat": 4,
 "nbformat_minor": 2
}
