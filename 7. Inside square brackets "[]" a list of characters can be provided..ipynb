{
 "cells": [
  {
   "cell_type": "code",
   "execution_count": 1,
   "metadata": {},
   "outputs": [],
   "source": [
    "import re"
   ]
  },
  {
   "cell_type": "markdown",
   "metadata": {},
   "source": [
    "# Page 7 - [ ]은 안에 속하는 하나의 문자"
   ]
  },
  {
   "cell_type": "markdown",
   "metadata": {},
   "source": [
    "Inside square brackets \"[]\" a list of characters can be provided. The expression matches if any of these characters is found. The order of characters is insignificant.(Case 3)"
   ]
  },
  {
   "cell_type": "code",
   "execution_count": 2,
   "metadata": {},
   "outputs": [
    {
     "name": "stdout",
     "output_type": "stream",
     "text": [
      "None\n",
      "<_sre.SRE_Match object; span=(1, 2), match='o'>\n",
      "['o', 'o', 'y', 'o', 'u', 'o']\n"
     ]
    }
   ],
   "source": [
    "p = re.compile('[oyu]')\n",
    "\n",
    "m1 = re.match(p, 'How do you do?')\n",
    "s1 = re.search(p, 'How do you do?')\n",
    "f1 = re.findall(p, 'How do you do?')\n",
    "\n",
    "print(m1)\n",
    "print(s1)\n",
    "print(f1)"
   ]
  },
  {
   "cell_type": "code",
   "execution_count": 3,
   "metadata": {},
   "outputs": [
    {
     "name": "stdout",
     "output_type": "stream",
     "text": [
      "<_sre.SRE_Match object; span=(0, 2), match='Ho'>\n",
      "<_sre.SRE_Match object; span=(0, 2), match='Ho'>\n",
      "['Ho', 'do', 'do']\n"
     ]
    }
   ],
   "source": [
    "p = re.compile('[dH].')\n",
    "\n",
    "m1 = re.match(p, 'How do you do?')\n",
    "s1 = re.search(p, 'How do you do?')\n",
    "f1 = re.findall(p, 'How do you do?')\n",
    "\n",
    "print(m1)\n",
    "print(s1)\n",
    "print(f1)"
   ]
  },
  {
   "cell_type": "code",
   "execution_count": 4,
   "metadata": {
    "scrolled": true
   },
   "outputs": [
    {
     "name": "stdout",
     "output_type": "stream",
     "text": [
      "None\n",
      "<_sre.SRE_Match object; span=(1, 3), match='ow'>\n",
      "['ow', 'yo']\n"
     ]
    }
   ],
   "source": [
    "p = re.compile('[owy][yow]')\n",
    "\n",
    "m1 = re.match(p, 'How do you do?')\n",
    "s1 = re.search(p, 'How do you do?')\n",
    "f1 = re.findall(p, 'How do you do?')\n",
    "\n",
    "print(m1)\n",
    "print(s1)\n",
    "print(f1)"
   ]
  }
 ],
 "metadata": {
  "kernelspec": {
   "display_name": "Python 3",
   "language": "python",
   "name": "python3"
  },
  "language_info": {
   "codemirror_mode": {
    "name": "ipython",
    "version": 3
   },
   "file_extension": ".py",
   "mimetype": "text/x-python",
   "name": "python",
   "nbconvert_exporter": "python",
   "pygments_lexer": "ipython3",
   "version": "3.6.7"
  }
 },
 "nbformat": 4,
 "nbformat_minor": 2
}
