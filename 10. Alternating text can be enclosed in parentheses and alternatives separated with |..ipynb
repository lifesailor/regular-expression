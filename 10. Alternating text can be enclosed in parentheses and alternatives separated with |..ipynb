{
 "cells": [
  {
   "cell_type": "code",
   "execution_count": 2,
   "metadata": {},
   "outputs": [],
   "source": [
    "import re"
   ]
  },
  {
   "cell_type": "markdown",
   "metadata": {},
   "source": [
    "# Page 10 - | 는 or 을 의미한다."
   ]
  },
  {
   "cell_type": "code",
   "execution_count": 3,
   "metadata": {},
   "outputs": [
    {
     "name": "stdout",
     "output_type": "stream",
     "text": [
      "None\n",
      "<_sre.SRE_Match object; span=(1, 3), match='on'>\n",
      "['on', 'ues', 'rida']\n"
     ]
    }
   ],
   "source": [
    "p = re.compile('(on|ues|rida)')\n",
    "\n",
    "m1 = p.match('Monday Tuesday Friday')\n",
    "s1 = p.search('Monday Tuesday Friday')\n",
    "f1 = p.findall('Monday Tuesday Friday')\n",
    "\n",
    "print(m1)\n",
    "print(s1)\n",
    "print(f1)"
   ]
  },
  {
   "cell_type": "code",
   "execution_count": 13,
   "metadata": {},
   "outputs": [
    {
     "name": "stdout",
     "output_type": "stream",
     "text": [
      "<_sre.SRE_Match object; span=(0, 6), match='Monday'>\n",
      "<_sre.SRE_Match object; span=(0, 6), match='Monday'>\n",
      "['Mon', 'Tues', 'Fri']\n"
     ]
    }
   ],
   "source": [
    "p = re.compile('(Mon|Tues|Fri)day')\n",
    "\n",
    "m1 = p.match('Monday Tuesday Friday')\n",
    "s1 = p.search('Monday Tuesday Friday')\n",
    "f1 = p.findall('Monday Tuesday Friday')\n",
    "\n",
    "print(m1)\n",
    "print(s1)\n",
    "print(f1)"
   ]
  },
  {
   "cell_type": "code",
   "execution_count": 14,
   "metadata": {},
   "outputs": [
    {
     "name": "stdout",
     "output_type": "stream",
     "text": [
      "<_sre.SRE_Match object; span=(0, 6), match='Monday'>\n",
      "<_sre.SRE_Match object; span=(0, 6), match='Monday'>\n",
      "['nd', 'esd', 'id']\n"
     ]
    }
   ],
   "source": [
    "p = re.compile('..(id|esd|nd)ay')\n",
    "\n",
    "m1 = p.match('Monday Tuesday Friday')\n",
    "s1 = p.search('Monday Tuesday Friday')\n",
    "f1 = p.findall('Monday Tuesday Friday')\n",
    "\n",
    "print(m1)\n",
    "print(s1)\n",
    "print(f1)"
   ]
  }
 ],
 "metadata": {
  "kernelspec": {
   "display_name": "Python 3",
   "language": "python",
   "name": "python3"
  },
  "language_info": {
   "codemirror_mode": {
    "name": "ipython",
    "version": 3
   },
   "file_extension": ".py",
   "mimetype": "text/x-python",
   "name": "python",
   "nbconvert_exporter": "python",
   "pygments_lexer": "ipython3",
   "version": "3.6.7"
  }
 },
 "nbformat": 4,
 "nbformat_minor": 2
}
