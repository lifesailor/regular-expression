{
 "cells": [
  {
   "cell_type": "code",
   "execution_count": 1,
   "metadata": {},
   "outputs": [],
   "source": [
    "import re"
   ]
  },
  {
   "cell_type": "markdown",
   "metadata": {},
   "source": [
    "# Page 5 - .은 어느 문자나 match 할 수 있다"
   ]
  },
  {
   "cell_type": "markdown",
   "metadata": {},
   "source": [
    "Point . matches any character.\n"
   ]
  },
  {
   "cell_type": "code",
   "execution_count": 2,
   "metadata": {},
   "outputs": [],
   "source": [
    "p = re.compile('.')"
   ]
  },
  {
   "cell_type": "code",
   "execution_count": 3,
   "metadata": {},
   "outputs": [
    {
     "name": "stdout",
     "output_type": "stream",
     "text": [
      "<_sre.SRE_Match object; span=(0, 1), match='R'>\n",
      "<_sre.SRE_Match object; span=(0, 1), match='R'>\n",
      "['R', 'e', 'g', 'u', 'l', 'a', 'r', ' ', 'e', 'x', 'p', 'r', 'e', 's', 's', 'i', 'o', 'n', 's', ' ', 'a', 'r', 'e', ' ', 'p', 'o', 'w', 'e', 'r', 'f', 'u', 'l', '!', '!', '!']\n"
     ]
    }
   ],
   "source": [
    "m1 = re.match(p, 'Regular expressions are powerful!!!')\n",
    "s1 = re.search(p, 'Regular expressions are powerful!!!')\n",
    "f1 = re.findall(p, 'Regular expressions are powerful!!!')\n",
    "\n",
    "print(m1)\n",
    "print(s1)\n",
    "print(f1)"
   ]
  },
  {
   "cell_type": "code",
   "execution_count": 4,
   "metadata": {},
   "outputs": [
    {
     "name": "stdout",
     "output_type": "stream",
     "text": [
      "<_sre.SRE_Match object; span=(0, 6), match='Regula'>\n",
      "<_sre.SRE_Match object; span=(0, 6), match='Regula'>\n",
      "['Regula', 'r expr', 'ession', 's are ', 'powerf']\n"
     ]
    }
   ],
   "source": [
    "p = re.compile('......')\n",
    "\n",
    "m1 = re.match(p, 'Regular expressions are powerful!!!')\n",
    "s1 = re.search(p, 'Regular expressions are powerful!!!')\n",
    "f1 = re.findall(p, 'Regular expressions are powerful!!!')\n",
    "\n",
    "print(m1)\n",
    "print(s1)\n",
    "print(f1)"
   ]
  },
  {
   "cell_type": "markdown",
   "metadata": {},
   "source": [
    "# Page 6 - \\\\. 실제 .을 의미한다"
   ]
  },
  {
   "cell_type": "markdown",
   "metadata": {},
   "source": [
    "The point must be escaped if literal meaning is required."
   ]
  },
  {
   "cell_type": "code",
   "execution_count": 5,
   "metadata": {},
   "outputs": [
    {
     "name": "stdout",
     "output_type": "stream",
     "text": [
      "<_sre.SRE_Match object; span=(0, 1), match='O'>\n",
      "<_sre.SRE_Match object; span=(0, 1), match='O'>\n",
      "['O', '.', 'K', '.']\n"
     ]
    }
   ],
   "source": [
    "p = re.compile('.')\n",
    "\n",
    "m1 = re.match(p, 'O.K.')\n",
    "s1 = re.search(p, 'O.K.')\n",
    "f1 = re.findall(p, 'O.K.')\n",
    "\n",
    "print(m1)\n",
    "print(s1)\n",
    "print(f1)"
   ]
  },
  {
   "cell_type": "code",
   "execution_count": 6,
   "metadata": {},
   "outputs": [
    {
     "name": "stdout",
     "output_type": "stream",
     "text": [
      "None\n",
      "<_sre.SRE_Match object; span=(1, 2), match='.'>\n",
      "['.', '.']\n"
     ]
    }
   ],
   "source": [
    "p = re.compile('\\.')\n",
    "\n",
    "m1 = re.match(p, 'O.K.')\n",
    "s1 = re.search(p, 'O.K.')\n",
    "f1 = re.findall(p, 'O.K.')\n",
    "\n",
    "print(m1)\n",
    "print(s1)\n",
    "print(f1)"
   ]
  },
  {
   "cell_type": "code",
   "execution_count": 7,
   "metadata": {},
   "outputs": [
    {
     "name": "stdout",
     "output_type": "stream",
     "text": [
      "None\n",
      "<_sre.SRE_Match object; span=(1, 4), match='.K.'>\n",
      "['.K.']\n"
     ]
    }
   ],
   "source": [
    "p = re.compile('\\..\\.')\n",
    "\n",
    "m1 = re.match(p, 'O.K.')\n",
    "s1 = re.search(p, 'O.K.')\n",
    "f1 = re.findall(p, 'O.K.')\n",
    "\n",
    "print(m1)\n",
    "print(s1)\n",
    "print(f1)"
   ]
  },
  {
   "cell_type": "markdown",
   "metadata": {},
   "source": [
    "# Page 7 - [ ]은 안에 속하는 하나의 문자"
   ]
  },
  {
   "cell_type": "markdown",
   "metadata": {},
   "source": [
    "Inside square brackets \"[]\" a list of characters can be provided. The expression matches if any of these characters is found. The order of characters is insignificant.(Case 3)"
   ]
  },
  {
   "cell_type": "code",
   "execution_count": 8,
   "metadata": {},
   "outputs": [
    {
     "name": "stdout",
     "output_type": "stream",
     "text": [
      "None\n",
      "<_sre.SRE_Match object; span=(1, 2), match='o'>\n",
      "['o', 'o', 'y', 'o', 'u', 'o']\n"
     ]
    }
   ],
   "source": [
    "p = re.compile('[oyu]')\n",
    "\n",
    "m1 = re.match(p, 'How do you do?')\n",
    "s1 = re.search(p, 'How do you do?')\n",
    "f1 = re.findall(p, 'How do you do?')\n",
    "\n",
    "print(m1)\n",
    "print(s1)\n",
    "print(f1)"
   ]
  },
  {
   "cell_type": "code",
   "execution_count": 9,
   "metadata": {},
   "outputs": [
    {
     "name": "stdout",
     "output_type": "stream",
     "text": [
      "<_sre.SRE_Match object; span=(0, 2), match='Ho'>\n",
      "<_sre.SRE_Match object; span=(0, 2), match='Ho'>\n",
      "['Ho', 'do', 'do']\n"
     ]
    }
   ],
   "source": [
    "p = re.compile('[dH].')\n",
    "\n",
    "m1 = re.match(p, 'How do you do?')\n",
    "s1 = re.search(p, 'How do you do?')\n",
    "f1 = re.findall(p, 'How do you do?')\n",
    "\n",
    "print(m1)\n",
    "print(s1)\n",
    "print(f1)"
   ]
  },
  {
   "cell_type": "code",
   "execution_count": 10,
   "metadata": {},
   "outputs": [
    {
     "name": "stdout",
     "output_type": "stream",
     "text": [
      "None\n",
      "<_sre.SRE_Match object; span=(1, 3), match='ow'>\n",
      "['ow', 'yo']\n"
     ]
    }
   ],
   "source": [
    "p = re.compile('[owy][yow]')\n",
    "\n",
    "m1 = re.match(p, 'How do you do?')\n",
    "s1 = re.search(p, 'How do you do?')\n",
    "f1 = re.findall(p, 'How do you do?')\n",
    "\n",
    "print(m1)\n",
    "print(s1)\n",
    "print(f1)"
   ]
  },
  {
   "cell_type": "markdown",
   "metadata": {},
   "source": [
    "# Page 8 - [A-B]은 AB에 속하는 문자를 찾는다"
   ]
  },
  {
   "cell_type": "code",
   "execution_count": 11,
   "metadata": {},
   "outputs": [
    {
     "name": "stdout",
     "output_type": "stream",
     "text": [
      "None\n",
      "<_sre.SRE_Match object; span=(2, 3), match='C'>\n",
      "['C', 'D', 'E', 'F', 'G', 'H', 'I', 'J', 'K']\n"
     ]
    }
   ],
   "source": [
    "p = re.compile('[C-K]')\n",
    "\n",
    "m1 = re.match(p, 'ABCDEFGHIJKLMNOPQRSTUVWXYZ abcdefghijklmnopqrstuvwxyz 0123456789')\n",
    "s1 = re.search(p, 'ABCDEFGHIJKLMNOPQRSTUVWXYZ abcdefghijklmnopqrstuvwxyz 0123456789')\n",
    "f1 = re.findall(p, 'ABCDEFGHIJKLMNOPQRSTUVWXYZ abcdefghijklmnopqrstuvwxyz 0123456789')\n",
    "\n",
    "print(m1)\n",
    "print(s1)\n",
    "print(f1)"
   ]
  },
  {
   "cell_type": "code",
   "execution_count": 12,
   "metadata": {},
   "outputs": [
    {
     "name": "stdout",
     "output_type": "stream",
     "text": [
      "None\n",
      "<_sre.SRE_Match object; span=(2, 3), match='C'>\n",
      "['C', 'D', 'E', 'F', 'G', 'H', 'K']\n"
     ]
    }
   ],
   "source": [
    "p = re.compile('[CDEFGHK]')\n",
    "\n",
    "m1 = re.match(p, 'ABCDEFGHIJKLMNOPQRSTUVWXYZ abcdefghijklmnopqrstuvwxyz 0123456789')\n",
    "s1 = re.search(p, 'ABCDEFGHIJKLMNOPQRSTUVWXYZ abcdefghijklmnopqrstuvwxyz 0123456789')\n",
    "f1 = re.findall(p, 'ABCDEFGHIJKLMNOPQRSTUVWXYZ abcdefghijklmnopqrstuvwxyz 0123456789')\n",
    "\n",
    "print(m1)\n",
    "print(s1)\n",
    "print(f1)"
   ]
  },
  {
   "cell_type": "code",
   "execution_count": 13,
   "metadata": {},
   "outputs": [
    {
     "name": "stdout",
     "output_type": "stream",
     "text": [
      "None\n",
      "<_sre.SRE_Match object; span=(27, 28), match='a'>\n",
      "['a', 'b', 'c', 'd']\n"
     ]
    }
   ],
   "source": [
    "p = re.compile('[a-d]')\n",
    "\n",
    "m1 = re.match(p, 'ABCDEFGHIJKLMNOPQRSTUVWXYZ abcdefghijklmnopqrstuvwxyz 0123456789')\n",
    "s1 = re.search(p, 'ABCDEFGHIJKLMNOPQRSTUVWXYZ abcdefghijklmnopqrstuvwxyz 0123456789')\n",
    "f1 = re.findall(p, 'ABCDEFGHIJKLMNOPQRSTUVWXYZ abcdefghijklmnopqrstuvwxyz 0123456789')\n",
    "\n",
    "print(m1)\n",
    "print(s1)\n",
    "print(f1)"
   ]
  },
  {
   "cell_type": "code",
   "execution_count": 14,
   "metadata": {},
   "outputs": [
    {
     "name": "stdout",
     "output_type": "stream",
     "text": [
      "None\n",
      "<_sre.SRE_Match object; span=(56, 57), match='2'>\n",
      "['2', '3', '4', '5', '6']\n"
     ]
    }
   ],
   "source": [
    "p = re.compile('[2-6]')\n",
    "\n",
    "m1 = re.match(p, 'ABCDEFGHIJKLMNOPQRSTUVWXYZ abcdefghijklmnopqrstuvwxyz 0123456789')\n",
    "s1 = re.search(p, 'ABCDEFGHIJKLMNOPQRSTUVWXYZ abcdefghijklmnopqrstuvwxyz 0123456789')\n",
    "f1 = re.findall(p, 'ABCDEFGHIJKLMNOPQRSTUVWXYZ abcdefghijklmnopqrstuvwxyz 0123456789')\n",
    "\n",
    "print(m1)\n",
    "print(s1)\n",
    "print(f1)"
   ]
  },
  {
   "cell_type": "code",
   "execution_count": 15,
   "metadata": {},
   "outputs": [
    {
     "name": "stdout",
     "output_type": "stream",
     "text": [
      "None\n",
      "<_sre.SRE_Match object; span=(2, 3), match='C'>\n",
      "['C', 'D', 'E', 'F', 'G', 'H', 'I', 'J', 'K', 'a', 'b', 'c', 'd', '2', '3', '4', '5', '6']\n"
     ]
    }
   ],
   "source": [
    "p = re.compile('[C-Ka-d2-6]')\n",
    "\n",
    "m1 = re.match(p, 'ABCDEFGHIJKLMNOPQRSTUVWXYZ abcdefghijklmnopqrstuvwxyz 0123456789')\n",
    "s1 = re.search(p, 'ABCDEFGHIJKLMNOPQRSTUVWXYZ abcdefghijklmnopqrstuvwxyz 0123456789')\n",
    "f1 = re.findall(p, 'ABCDEFGHIJKLMNOPQRSTUVWXYZ abcdefghijklmnopqrstuvwxyz 0123456789')\n",
    "\n",
    "print(m1)\n",
    "print(s1)\n",
    "print(f1)"
   ]
  },
  {
   "cell_type": "markdown",
   "metadata": {},
   "source": [
    "# Page 9 - [^...]는 ^ 뒤의 문자는 선택되지 않는다."
   ]
  },
  {
   "cell_type": "code",
   "execution_count": 16,
   "metadata": {},
   "outputs": [
    {
     "name": "stdout",
     "output_type": "stream",
     "text": [
      "<_sre.SRE_Match object; span=(0, 1), match='A'>\n",
      "<_sre.SRE_Match object; span=(0, 1), match='A'>\n",
      "['A', 'B', 'E', 'F', 'G', 'H', 'I', 'J', 'K', 'L', 'M', 'N', 'O', 'P', 'Q', 'R', 'S', 'T', 'U', 'V', 'W', 'X', 'Y', 'Z', ' ', 'a', 'b', 'c', 'd', 'e', 'f', 'j', 'k', 'l', 'm', 'n', 'o', 'p', 'q', 'r', 's', 't', 'u', 'v', 'w', 'x', 'y', 'z', ' ', '0', '1', '2', '3', '6', '7', '8', '9']\n"
     ]
    }
   ],
   "source": [
    "p = re.compile('[^CDghi45]')\n",
    "\n",
    "m1 = re.match(p, 'ABCDEFGHIJKLMNOPQRSTUVWXYZ abcdefghijklmnopqrstuvwxyz 0123456789')\n",
    "s1 = re.search(p, 'ABCDEFGHIJKLMNOPQRSTUVWXYZ abcdefghijklmnopqrstuvwxyz 0123456789')\n",
    "f1 = re.findall(p, 'ABCDEFGHIJKLMNOPQRSTUVWXYZ abcdefghijklmnopqrstuvwxyz 0123456789')\n",
    "\n",
    "print(m1)\n",
    "print(s1)\n",
    "print(f1)"
   ]
  },
  {
   "cell_type": "code",
   "execution_count": 17,
   "metadata": {},
   "outputs": [
    {
     "name": "stdout",
     "output_type": "stream",
     "text": [
      "<_sre.SRE_Match object; span=(0, 1), match='A'>\n",
      "<_sre.SRE_Match object; span=(0, 1), match='A'>\n",
      "['A', 'B', 'C', 'D', 'E', 'F', 'G', 'H', 'I', 'J', 'K', 'L', 'M', 'N', 'O', 'P', 'Q', 'R', 'S', 'T', 'U', 'V', ' ', 'a', 'b', 'c', 'd', 'e', 'f', 'g', 'h', 'i', 'j', 'k', 'l', 'm', 'n', 'o', 'p', 'q', 'r', 's', 't', 'u', 'v', 'w', 'x', 'y', 'z', ' ', '0', '1', '2', '3', '4', '5', '6', '7', '8', '9']\n"
     ]
    }
   ],
   "source": [
    "p = re.compile('[^W-Z]')\n",
    "\n",
    "m1 = re.match(p, 'ABCDEFGHIJKLMNOPQRSTUVWXYZ abcdefghijklmnopqrstuvwxyz 0123456789')\n",
    "s1 = re.search(p, 'ABCDEFGHIJKLMNOPQRSTUVWXYZ abcdefghijklmnopqrstuvwxyz 0123456789')\n",
    "f1 = re.findall(p, 'ABCDEFGHIJKLMNOPQRSTUVWXYZ abcdefghijklmnopqrstuvwxyz 0123456789')\n",
    "\n",
    "print(m1)\n",
    "print(s1)\n",
    "print(f1)"
   ]
  },
  {
   "cell_type": "code",
   "execution_count": null,
   "metadata": {},
   "outputs": [],
   "source": []
  }
 ],
 "metadata": {
  "kernelspec": {
   "display_name": "Python 3",
   "language": "python",
   "name": "python3"
  },
  "language_info": {
   "codemirror_mode": {
    "name": "ipython",
    "version": 3
   },
   "file_extension": ".py",
   "mimetype": "text/x-python",
   "name": "python",
   "nbconvert_exporter": "python",
   "pygments_lexer": "ipython3",
   "version": "3.6.4"
  }
 },
 "nbformat": 4,
 "nbformat_minor": 2
}
