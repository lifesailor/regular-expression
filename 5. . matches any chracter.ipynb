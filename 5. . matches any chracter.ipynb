{
 "cells": [
  {
   "cell_type": "code",
   "execution_count": 1,
   "metadata": {},
   "outputs": [],
   "source": [
    "import re"
   ]
  },
  {
   "cell_type": "markdown",
   "metadata": {},
   "source": [
    "# Page 5 - .은 어느 문자나 match 할 수 있다"
   ]
  },
  {
   "cell_type": "markdown",
   "metadata": {},
   "source": [
    "Point . matches any character.\n"
   ]
  },
  {
   "cell_type": "code",
   "execution_count": 2,
   "metadata": {},
   "outputs": [],
   "source": [
    "p = re.compile('.')"
   ]
  },
  {
   "cell_type": "code",
   "execution_count": 3,
   "metadata": {},
   "outputs": [
    {
     "name": "stdout",
     "output_type": "stream",
     "text": [
      "<_sre.SRE_Match object; span=(0, 1), match='R'>\n",
      "<_sre.SRE_Match object; span=(0, 1), match='R'>\n",
      "['R', 'e', 'g', 'u', 'l', 'a', 'r', ' ', 'e', 'x', 'p', 'r', 'e', 's', 's', 'i', 'o', 'n', 's', ' ', 'a', 'r', 'e', ' ', 'p', 'o', 'w', 'e', 'r', 'f', 'u', 'l', '!', '!', '!']\n"
     ]
    }
   ],
   "source": [
    "m1 = re.match(p, 'Regular expressions are powerful!!!')\n",
    "s1 = re.search(p, 'Regular expressions are powerful!!!')\n",
    "f1 = re.findall(p, 'Regular expressions are powerful!!!')\n",
    "\n",
    "print(m1)\n",
    "print(s1)\n",
    "print(f1)"
   ]
  },
  {
   "cell_type": "code",
   "execution_count": 4,
   "metadata": {},
   "outputs": [
    {
     "name": "stdout",
     "output_type": "stream",
     "text": [
      "<_sre.SRE_Match object; span=(0, 6), match='Regula'>\n",
      "<_sre.SRE_Match object; span=(0, 6), match='Regula'>\n",
      "['Regula', 'r expr', 'ession', 's are ', 'powerf']\n"
     ]
    }
   ],
   "source": [
    "p = re.compile('......')\n",
    "\n",
    "m1 = re.match(p, 'Regular expressions are powerful!!!')\n",
    "s1 = re.search(p, 'Regular expressions are powerful!!!')\n",
    "f1 = re.findall(p, 'Regular expressions are powerful!!!')\n",
    "\n",
    "print(m1)\n",
    "print(s1)\n",
    "print(f1)"
   ]
  }
 ],
 "metadata": {
  "kernelspec": {
   "display_name": "Python 3",
   "language": "python",
   "name": "python3"
  },
  "language_info": {
   "codemirror_mode": {
    "name": "ipython",
    "version": 3
   },
   "file_extension": ".py",
   "mimetype": "text/x-python",
   "name": "python",
   "nbconvert_exporter": "python",
   "pygments_lexer": "ipython3",
   "version": "3.6.7"
  }
 },
 "nbformat": 4,
 "nbformat_minor": 2
}
